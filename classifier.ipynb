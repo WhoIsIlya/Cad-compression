{
 "cells": [
  {
   "cell_type": "markdown",
   "metadata": {},
   "source": [
    "Import libraries"
   ]
  },
  {
   "cell_type": "code",
   "execution_count": 36,
   "metadata": {},
   "outputs": [],
   "source": [
    "import imutils\n",
    "import cv2\n",
    "import os\n",
    "from imutils import paths\n",
    "import numpy as np\n",
    "from PIL import Image\n",
    "import matplotlib.pyplot as plt\n",
    "from keras.layers import Input, Conv2D, MaxPool2D, UpSampling2D\n",
    "from keras.models import Model\n",
    "from sklearn.model_selection import train_test_split\n",
    "\n",
    "import tensorflow as tf"
   ]
  },
  {
   "cell_type": "markdown",
   "metadata": {},
   "source": [
    "Dataset preload"
   ]
  },
  {
   "cell_type": "code",
   "execution_count": 37,
   "metadata": {},
   "outputs": [
    {
     "name": "stdout",
     "output_type": "stream",
     "text": [
      "Found 3192 files belonging to 3 classes.\n",
      "Using 2554 files for training.\n",
      "Found 3192 files belonging to 3 classes.\n",
      "Using 638 files for validation.\n"
     ]
    }
   ],
   "source": [
    "data_dir = \"./Dataset/cad_classify_dataset/\"\n",
    "img_height = 256\n",
    "img_width = 256\n",
    "batch_size = 32\n",
    "\n",
    "train_ds = tf.keras.utils.image_dataset_from_directory(\n",
    "  data_dir,\n",
    "  validation_split=0.2,\n",
    "  subset=\"training\",\n",
    "  seed=123,\n",
    "  image_size=(img_height, img_width),\n",
    "  batch_size=batch_size)\n",
    "\n",
    "val_ds = tf.keras.utils.image_dataset_from_directory(\n",
    "  data_dir,\n",
    "  validation_split=0.2,\n",
    "  subset=\"validation\",\n",
    "  seed=123,\n",
    "  image_size=(img_height, img_width),\n",
    "  batch_size=batch_size)"
   ]
  },
  {
   "cell_type": "markdown",
   "metadata": {},
   "source": [
    "Dataset prewiev"
   ]
  },
  {
   "cell_type": "code",
   "execution_count": null,
   "metadata": {},
   "outputs": [],
   "source": [
    "import matplotlib.pyplot as plt\n",
    "\n",
    "plt.figure(figsize=(10, 10))\n",
    "for images, labels in train_ds.take(1):\n",
    "  for i in range(9):\n",
    "    ax = plt.subplot(3, 3, i + 1)\n",
    "    plt.imshow(images[i].numpy().astype(\"uint8\"))\n",
    "    plt.axis(\"off\")"
   ]
  },
  {
   "cell_type": "code",
   "execution_count": 39,
   "metadata": {},
   "outputs": [
    {
     "name": "stdout",
     "output_type": "stream",
     "text": [
      "(32, 256, 256, 3)\n",
      "(32,)\n"
     ]
    }
   ],
   "source": [
    "for image_batch, labels_batch in train_ds:\n",
    "  print(image_batch.shape)\n",
    "  print(labels_batch.shape)\n",
    "  break"
   ]
  },
  {
   "cell_type": "code",
   "execution_count": 40,
   "metadata": {},
   "outputs": [
    {
     "name": "stdout",
     "output_type": "stream",
     "text": [
      "1.0 1.0\n"
     ]
    }
   ],
   "source": [
    "#Normalization 255 to 1\n",
    "normalization_layer = tf.keras.layers.Rescaling(1./255)\n",
    "\n",
    "normalized_ds = train_ds.map(lambda x, y: (normalization_layer(x), y))\n",
    "image_batch, labels_batch = next(iter(normalized_ds))\n",
    "first_image = image_batch[0]\n",
    "# Notice the pixel values are now in `[0,1]`.\n",
    "print(np.min(first_image), np.max(first_image))"
   ]
  },
  {
   "cell_type": "code",
   "execution_count": 41,
   "metadata": {},
   "outputs": [],
   "source": [
    "#CACHE + PREFETCH\n",
    "AUTOTUNE = tf.data.AUTOTUNE\n",
    "\n",
    "train_ds = train_ds.cache().prefetch(buffer_size=AUTOTUNE)\n",
    "val_ds = val_ds.cache().prefetch(buffer_size=AUTOTUNE)"
   ]
  },
  {
   "cell_type": "code",
   "execution_count": 54,
   "metadata": {},
   "outputs": [],
   "source": [
    "num_classes = 3\n",
    "\n",
    "model = tf.keras.Sequential([\n",
    "  tf.keras.layers.Rescaling(1./255),\n",
    "  tf.keras.layers.Conv2D(8, 3, activation='relu'),\n",
    "  tf.keras.layers.MaxPooling2D(),\n",
    "  tf.keras.layers.Conv2D(16, 3, activation='relu'),\n",
    "  tf.keras.layers.MaxPooling2D(),\n",
    "  tf.keras.layers.Conv2D(32, 3, activation='relu'),\n",
    "  tf.keras.layers.MaxPooling2D(),\n",
    "  tf.keras.layers.Flatten(),\n",
    "  tf.keras.layers.Dense(128, activation='relu'),\n",
    "  tf.keras.layers.Dense(num_classes)\n",
    "])"
   ]
  },
  {
   "cell_type": "code",
   "execution_count": 55,
   "metadata": {},
   "outputs": [],
   "source": [
    "model.compile(\n",
    "  optimizer='adam',\n",
    "  loss=tf.losses.SparseCategoricalCrossentropy(from_logits=True),\n",
    "  metrics=['accuracy'])"
   ]
  },
  {
   "cell_type": "code",
   "execution_count": 25,
   "metadata": {},
   "outputs": [],
   "source": [
    "import keras\n",
    "model = keras.models.load_model(\"./Train data/Classifier.keras\")"
   ]
  },
  {
   "cell_type": "code",
   "execution_count": 56,
   "metadata": {},
   "outputs": [
    {
     "name": "stdout",
     "output_type": "stream",
     "text": [
      "Epoch 1/15\n"
     ]
    },
    {
     "name": "stdout",
     "output_type": "stream",
     "text": [
      "80/80 [==============================] - 23s 270ms/step - loss: 0.3489 - accuracy: 0.9440 - val_loss: 0.0083 - val_accuracy: 1.0000\n",
      "Epoch 2/15\n",
      "80/80 [==============================] - 21s 268ms/step - loss: 0.0059 - accuracy: 0.9980 - val_loss: 0.0062 - val_accuracy: 0.9969\n",
      "Epoch 3/15\n",
      "80/80 [==============================] - 34s 425ms/step - loss: 0.0033 - accuracy: 0.9996 - val_loss: 0.0056 - val_accuracy: 0.9969\n",
      "Epoch 4/15\n",
      "80/80 [==============================] - 69s 863ms/step - loss: 0.0032 - accuracy: 0.9996 - val_loss: 0.0024 - val_accuracy: 0.9984\n",
      "Epoch 5/15\n",
      "80/80 [==============================] - 69s 863ms/step - loss: 0.0027 - accuracy: 0.9996 - val_loss: 0.0055 - val_accuracy: 0.9984\n",
      "Epoch 6/15\n",
      "80/80 [==============================] - 68s 856ms/step - loss: 0.0364 - accuracy: 0.9890 - val_loss: 0.0247 - val_accuracy: 0.9937\n",
      "Epoch 7/15\n",
      "80/80 [==============================] - 68s 845ms/step - loss: 0.0086 - accuracy: 0.9984 - val_loss: 7.4343e-04 - val_accuracy: 1.0000\n",
      "Epoch 8/15\n",
      "80/80 [==============================] - 68s 852ms/step - loss: 0.4823 - accuracy: 0.9370 - val_loss: 0.0413 - val_accuracy: 0.9859\n",
      "Epoch 9/15\n",
      "80/80 [==============================] - 68s 856ms/step - loss: 0.0211 - accuracy: 0.9926 - val_loss: 0.0122 - val_accuracy: 0.9969\n",
      "Epoch 10/15\n",
      "80/80 [==============================] - 69s 858ms/step - loss: 0.0105 - accuracy: 0.9969 - val_loss: 0.0028 - val_accuracy: 1.0000\n",
      "Epoch 11/15\n",
      "80/80 [==============================] - 36s 449ms/step - loss: 0.0671 - accuracy: 0.9824 - val_loss: 0.0342 - val_accuracy: 0.9875\n",
      "Epoch 12/15\n",
      "80/80 [==============================] - 23s 282ms/step - loss: 0.0135 - accuracy: 0.9961 - val_loss: 0.0092 - val_accuracy: 0.9953\n",
      "Epoch 13/15\n",
      "80/80 [==============================] - 23s 292ms/step - loss: 0.0062 - accuracy: 0.9992 - val_loss: 0.0035 - val_accuracy: 0.9984\n",
      "Epoch 14/15\n",
      "80/80 [==============================] - 21s 262ms/step - loss: 0.0043 - accuracy: 0.9996 - val_loss: 0.0024 - val_accuracy: 0.9984\n",
      "Epoch 15/15\n",
      "80/80 [==============================] - 21s 267ms/step - loss: 0.0035 - accuracy: 0.9996 - val_loss: 0.0015 - val_accuracy: 1.0000\n"
     ]
    }
   ],
   "source": [
    "history = model.fit(\n",
    "  train_ds,\n",
    "  validation_data=val_ds,\n",
    "  epochs=15\n",
    ")"
   ]
  },
  {
   "cell_type": "code",
   "execution_count": 57,
   "metadata": {},
   "outputs": [
    {
     "data": {
      "image/png": "[encoded data removed]",
      "text/plain": [
       "<Figure size 640x480 with 1 Axes>"
      ]
     },
     "metadata": {},
     "output_type": "display_data"
    }
   ],
   "source": [
    "# PLOT HISTORY OF TRAIN\n",
    "plt.plot(history.history['loss'])\n",
    "plt.plot(history.history['val_loss'])\n",
    "plt.title('Потери на этапах проверки и обучения')\n",
    "plt.ylabel('Процент потерь')\n",
    "plt.xlabel('Эпохи обучения')\n",
    "plt.legend(['Потери на этапе обучения', 'Потери на этапе проверки'], loc='upper left')\n",
    "plt.show()"
   ]
  },
  {
   "cell_type": "code",
   "execution_count": 11,
   "metadata": {},
   "outputs": [],
   "source": [
    "model.save(\"./Train data/Classifier.keras\")"
   ]
  },
  {
   "cell_type": "code",
   "execution_count": null,
   "metadata": {},
   "outputs": [],
   "source": [
    "import matplotlib.pyplot as plt\n",
    "\n",
    "plt.figure(figsize=(10, 10))\n",
    "for images, labels in train_ds.take(1):\n",
    "  for i in range(9):\n",
    "    ax = plt.subplot(3, 3, i + 1)\n",
    "    plt.imshow(images[i].numpy().astype(\"uint8\"))\n",
    "    plt.axis(\"off\")"
   ]
  }
 ],
 "metadata": {
  "kernelspec": {
   "display_name": "Python 3",
   "language": "python",
   "name": "python3"
  },
  "language_info": {
   "codemirror_mode": {
    "name": "ipython",
    "version": 3
   },
   "file_extension": ".py",
   "mimetype": "text/x-python",
   "name": "python",
   "nbconvert_exporter": "python",
   "pygments_lexer": "ipython3",
   "version": "3.11.3"
  }
 },
 "nbformat": 4,
 "nbformat_minor": 2
}
