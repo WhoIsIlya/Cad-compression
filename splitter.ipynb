{
 "cells": [
  {
   "cell_type": "markdown",
   "metadata": {},
   "source": [
    "Images to block splitter"
   ]
  },
  {
   "cell_type": "code",
   "execution_count": 1,
   "metadata": {},
   "outputs": [],
   "source": [
    "import os\n",
    "import cv2\n",
    "from PIL import Image\n",
    "from itertools import product\n",
    "\n",
    "img_height = 32\n",
    "img_width = 32\n",
    "\n",
    "folder_path = \"./Dataset\"\n",
    "\n",
    "dr_images = os.listdir(folder_path + '/kodak_db/')\n",
    "#sp_images = os.listdir(folder_path + '/hires_specification/')\n",
    "dataset=[]"
   ]
  },
  {
   "cell_type": "code",
   "execution_count": 2,
   "metadata": {},
   "outputs": [],
   "source": [
    "d = 128\n",
    "\n",
    "def tile(filename, dir_in, dir_out, d):\n",
    "    name, ext = os.path.splitext(filename)\n",
    "    img = Image.open(os.path.join(dir_in, filename))\n",
    "    w, h = img.size\n",
    "    \n",
    "    grid = product(range(0, h-h%d, d), range(0, w-w%d, d))\n",
    "    for i, j in grid:\n",
    "        box = (j, i, j+d, i+d)\n",
    "        out = os.path.join(dir_out, f'S{name}_{i}_{j}{ext}')\n",
    "        img.crop(box).save(out)\n",
    "        \n",
    "for image_name in dr_images:\n",
    "\ttile(image_name, folder_path + '/kodak_db/', './Dataset/128x128/', d)"
   ]
  },
  {
   "cell_type": "code",
   "execution_count": 18,
   "metadata": {},
   "outputs": [],
   "source": [
    "d = 64\n",
    "\n",
    "def tile(filename, dir_in, dir_out, d):\n",
    "    name, ext = os.path.splitext(filename)\n",
    "    img = Image.open(os.path.join(dir_in, filename))\n",
    "    w, h = img.size\n",
    "    \n",
    "    grid = product(range(0, h-h%d, d), range(0, w-w%d, d))\n",
    "    for i, j in grid:\n",
    "        box = (j, i, j+d, i+d)\n",
    "        out = os.path.join(dir_out, f'S{name}_{i}_{j}{ext}')\n",
    "        img.crop(box).save(out)\n",
    "        \n",
    "for image_name in dr_images:\n",
    "\ttile(image_name, folder_path + '/kodak_db/', './Dataset/output/', d)"
   ]
  }
 ],
 "metadata": {
  "kernelspec": {
   "display_name": "Python 3",
   "language": "python",
   "name": "python3"
  },
  "language_info": {
   "codemirror_mode": {
    "name": "ipython",
    "version": 3
   },
   "file_extension": ".py",
   "mimetype": "text/x-python",
   "name": "python",
   "nbconvert_exporter": "python",
   "pygments_lexer": "ipython3",
   "version": "3.11.3"
  }
 },
 "nbformat": 4,
 "nbformat_minor": 2
}
