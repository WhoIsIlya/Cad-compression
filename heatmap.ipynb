{
 "cells": [
  {
   "cell_type": "markdown",
   "metadata": {},
   "source": [
    "Import libraries, model load"
   ]
  },
  {
   "cell_type": "code",
   "execution_count": 148,
   "metadata": {},
   "outputs": [],
   "source": [
    "import keras\n",
    "import imutils\n",
    "import cv2\n",
    "import os\n",
    "from imutils import paths\n",
    "import numpy as np\n",
    "from PIL import Image\n",
    "import matplotlib.pyplot as plt\n",
    "from keras.layers import Input, Conv2D, MaxPool2D, UpSampling2D\n",
    "from keras.models import Model\n",
    "from sklearn.model_selection import train_test_split\n",
    "from itertools import product\n",
    "import tensorflow as tf\n",
    "\n",
    "num_classes = 3\n",
    "\n",
    "model = tf.keras.Sequential([\n",
    "  tf.keras.layers.Rescaling(1./255),\n",
    "  tf.keras.layers.Conv2D(8, 3, activation='relu'),\n",
    "  tf.keras.layers.MaxPooling2D(),\n",
    "  tf.keras.layers.Conv2D(16, 3, activation='relu'),\n",
    "  tf.keras.layers.MaxPooling2D(),\n",
    "  tf.keras.layers.Conv2D(32, 3, activation='relu'),\n",
    "  tf.keras.layers.MaxPooling2D(),\n",
    "  tf.keras.layers.Flatten(),\n",
    "  tf.keras.layers.Dense(128, activation='relu'),\n",
    "  tf.keras.layers.Dense(num_classes)\n",
    "])\n",
    "\n",
    "model = keras.models.load_model(\"./Train data/Classifier.keras\")"
   ]
  },
  {
   "cell_type": "markdown",
   "metadata": {},
   "source": [
    "Load local data path"
   ]
  },
  {
   "cell_type": "code",
   "execution_count": 51,
   "metadata": {},
   "outputs": [],
   "source": [
    "folder_path = './Dataset/heatmap'\n",
    "input_folder = '/input/'\n",
    "output_folder = '/splitted/'\n",
    "heatmap_folder = '/heatmap/'"
   ]
  },
  {
   "cell_type": "markdown",
   "metadata": {},
   "source": [
    "Processing data, split to 256 x 256"
   ]
  },
  {
   "cell_type": "code",
   "execution_count": 36,
   "metadata": {},
   "outputs": [
    {
     "name": "stdout",
     "output_type": "stream",
     "text": [
      "1/1 [==============================] - 0s 31ms/step\n",
      "[-40.03846   34.01523    9.344778]\n"
     ]
    }
   ],
   "source": [
    "dr_images = os.listdir(folder_path + input_folder)\n",
    "\n",
    "output_size = 256\n",
    "\n",
    "image_size_width = 14619\n",
    "image_size_height = 10438\n",
    "\n",
    "def tile(filename, dir_in, dir_out, output_size):\n",
    "    name, ext = os.path.splitext(filename)\n",
    "    img = Image.open(os.path.join(dir_in, filename))\n",
    "    w, h = img.size\n",
    "    image_size_width = w\n",
    "    image_size_height = h\n",
    "    \n",
    "    grid = product(range(0, h-h%output_size, output_size), range(0, w-w%output_size, output_size))\n",
    "    for i, j in grid:\n",
    "        box = (j, i, j+output_size, i+output_size)\n",
    "        out = os.path.join(dir_out, f'S{name}_{i}_{j}{ext}')\n",
    "        image = cv2.imread(out)\n",
    "        image = cv2.cvtColor(image, cv2.COLOR_BGR2RGB)\n",
    "        image=Image.fromarray(image)\n",
    "        image = np.array(image)\n",
    "        dataset=[]\n",
    "        dataset.append(image)\n",
    "        dataset = np.reshape(dataset, (len(dataset), output_size, output_size, 3))\n",
    "        decoded_imgs = model.predict(dataset[0:1], batch_size=32)\n",
    "        print(decoded_imgs[0])\n",
    "\n",
    "        break\n",
    "        \n",
    "for image_name in dr_images:\n",
    "\ttile(image_name, folder_path + input_folder, folder_path + output_folder, output_size)"
   ]
  },
  {
   "cell_type": "markdown",
   "metadata": {},
   "source": [
    "Import presaved model"
   ]
  },
  {
   "cell_type": "code",
   "execution_count": 147,
   "metadata": {},
   "outputs": [],
   "source": [
    "# input layer\n",
    "input_layer = Input(shape=(output_size,output_size,3))\n",
    "\n",
    "# encoder\n",
    "encoded_layer1 = Conv2D(filters = 256,  kernel_size = (4, 4), activation='relu', padding='same')(input_layer)\n",
    "encoded_layer1 = MaxPool2D( (2, 2), padding='same')(encoded_layer1)\n",
    "encoded_layer2 = Conv2D(filters = 64, kernel_size = (3, 3), activation='relu', padding='same')(encoded_layer1)\n",
    "encoded = Conv2D(filters = 1, kernel_size = (2, 2), activation='relu', padding='same')(encoded_layer2)                                                             \n",
    "decoded_layer1 = Conv2D(filters = 64, kernel_size = (3, 3), activation='relu', padding='same')(encoded)\n",
    "decoded_layer1 = UpSampling2D((2, 2))(decoded_layer1)\n",
    "decoded_layer2 = Conv2D(filters = 256,  kernel_size = (4, 4), activation='relu', padding='same')(decoded_layer1)\n",
    "output_layer   = Conv2D(3, (3, 3), padding='same', activation='sigmoid')(decoded_layer2)\n",
    "\n",
    "# compile the model\n",
    "encoder = Model(input_layer, encoded)\n",
    "decoder = Model(encoded,output_layer)\n",
    "compression_model = Model(input_layer, decoder(encoder(input_layer)))\n",
    "compression_model.compile(optimizer='adam', loss='mse')\n",
    "\n",
    "# load weights\n",
    "compression_model = keras.models.load_model(\"Train data/256_m_weights.keras\")\n",
    "encoder = keras.models.load_model(\"Train data/256_e_weights.keras\")\n",
    "decoder = keras.models.load_model(\"Train data/256_d_weights.keras\")"
   ]
  },
  {
   "cell_type": "markdown",
   "metadata": {},
   "source": [
    "Metrics"
   ]
  },
  {
   "cell_type": "code",
   "execution_count": null,
   "metadata": {},
   "outputs": [],
   "source": [
    "import gzip\n",
    "class_names = ['EMPTY', 'HARD', 'LINEAR']\n",
    "\n",
    "dr_images = os.listdir(folder_path + input_folder)\n",
    "heatmap_np = np.zeros((40,57))\n",
    "heatmap_i = 0\n",
    "heatmap_j = 0\n",
    "\n",
    "def tile(filename, dir_in, dir_out, output_size):\n",
    "    name, ext = os.path.splitext(filename)\n",
    "    img = Image.open(os.path.join(dir_in, filename))\n",
    "    w, h = img.size\n",
    "    \n",
    "    grid = product(range(0, h-h%output_size, output_size), range(0, w-w%output_size, output_size))\n",
    "    for i, j in grid:\n",
    "        box = (j, i, j+output_size, i+output_size)\n",
    "        out = os.path.join(dir_out, f'S{name}_{i}_{j}{ext}')\n",
    "        heatmap_i = i//256\n",
    "        heatmap_j = j//256\n",
    "        image = cv2.imread(out)\n",
    "        image = cv2.cvtColor(image, cv2.COLOR_BGR2RGB)\n",
    "        image=Image.fromarray(image)\n",
    "        image = np.array(image)\n",
    "        dataset=[]\n",
    "        dataset.append(image)\n",
    "        dataset = np.reshape(dataset, (len(dataset), output_size, output_size, 3))\n",
    "        decoded_imgs = model.predict(dataset[0:1], batch_size=32)\n",
    "        print(decoded_imgs[0])\n",
    "        image = np.array(image)/255\n",
    "        dataset=[]\n",
    "        dataset.append(image)\n",
    "        dataset = np.reshape(dataset, (len(dataset), output_size, output_size, 3))\n",
    "        \n",
    "        heatmap_np[heatmap_i, heatmap_j] = np.argmax(decoded_imgs)\n",
    "        if (heatmap_np[heatmap_i, heatmap_j] >= 0 ):\n",
    "          image = compression_model.predict(dataset[0:1], batch_size=32)\n",
    "          image = image * 256\n",
    "          image = image.astype('int16')\n",
    "\n",
    "          f = gzip.GzipFile(folder_path + \"/compressed/\" + f'S{name}_{i}_{j}{ext}', \"w\")\n",
    "          np.save(file=f, arr=image)\n",
    "\n",
    "        \n",
    "for image_name in dr_images:\n",
    "\ttile(image_name, folder_path + input_folder, folder_path + output_folder, output_size)"
   ]
  },
  {
   "cell_type": "markdown",
   "metadata": {},
   "source": [
    "Heatmap visualization"
   ]
  },
  {
   "cell_type": "code",
   "execution_count": null,
   "metadata": {},
   "outputs": [],
   "source": [
    "class_names = ['EMPTY', 'HARD', 'LINEAR']\n",
    "\n",
    "def plot_image(i, predictions_array, true_label, img):\n",
    "  predictions_array, true_label, img = predictions_array[i], true_label[i], img[i]\n",
    "  plt.grid(False)\n",
    "  plt.xticks([])\n",
    "  plt.yticks([])\n",
    "\n",
    "  plt.imshow(img, cmap=plt.cm.binary)\n",
    "\n",
    "  predicted_label = np.argmax(predictions_array)\n",
    "  if predicted_label == true_label:\n",
    "    color = 'blue'\n",
    "  else:\n",
    "    color = 'red'\n",
    "\n",
    "  plt.xlabel(\"{} {:2.0f}% ({})\".format(class_names[predicted_label],\n",
    "                                100*np.max(predictions_array),\n",
    "                                class_names[true_label]),\n",
    "                                color=color)\n",
    "\n",
    "def plot_value_array(i, predictions_array, true_label):\n",
    "  predictions_array, true_label = predictions_array[i], true_label[i]\n",
    "  plt.grid(False)\n",
    "  plt.xticks([])\n",
    "  plt.yticks([])\n",
    "  thisplot = plt.bar(range(3), predictions_array, color=\"#777777\")\n",
    "  plt.ylim([0, 100]) \n",
    "  predicted_label = np.argmax(predictions_array)\n",
    "\n",
    "  thisplot[predicted_label].set_color('red')\n",
    "  thisplot[true_label].set_color('blue')\n",
    "\n",
    "dr_images = os.listdir(folder_path + input_folder)\n",
    "\n",
    "output_size = 256\n",
    "\n",
    "image_size_width = 14619\n",
    "image_size_height = 10438\n",
    "\n",
    "\n",
    "heatmap_np = np.zeros((40,57))\n",
    "heatmap_i = 0\n",
    "heatmap_j = 0\n",
    "\n",
    "\n",
    "def tile(filename, dir_in, dir_out, output_size):\n",
    "    name, ext = os.path.splitext(filename)\n",
    "    img = Image.open(os.path.join(dir_in, filename))\n",
    "    w, h = img.size\n",
    "    \n",
    "    grid = product(range(0, h-h%output_size, output_size), range(0, w-w%output_size, output_size))\n",
    "    for i, j in grid:\n",
    "        box = (j, i, j+output_size, i+output_size)\n",
    "        out = os.path.join(dir_out, f'S{name}_{i}_{j}{ext}')\n",
    "        heatmap_i = i//256\n",
    "        heatmap_j = j//256       \n",
    "        image = cv2.imread(out)\n",
    "        image = cv2.cvtColor(image, cv2.COLOR_BGR2RGB)\n",
    "        image=Image.fromarray(image)\n",
    "        image = np.array(image)#/255\n",
    "        dataset=[]\n",
    "        dataset.append(image)\n",
    "        dataset = np.reshape(dataset, (len(dataset), output_size, output_size, 3))\n",
    "        decoded_imgs = model.predict(dataset[0:1], batch_size=32)\n",
    "        print(decoded_imgs[0])\n",
    "        \n",
    "        heatmap_np[heatmap_i, heatmap_j] = np.argmax(decoded_imgs)\n",
    "        if (heatmap_np[heatmap_i, heatmap_j] == 1):\n",
    "           heatmap_np[heatmap_i, heatmap_j] = 2\n",
    "        elif (heatmap_np[heatmap_i, heatmap_j] == 2):\n",
    "           heatmap_np[heatmap_i, heatmap_j] = 1      \n",
    "        \n",
    "for image_name in dr_images:\n",
    "\ttile(image_name, folder_path + input_folder, folder_path + output_folder, output_size)\n"
   ]
  },
  {
   "cell_type": "code",
   "execution_count": 144,
   "metadata": {},
   "outputs": [
    {
     "data": {
      "image/png": "[encoded data removed]",
      "text/plain": [
       "<Figure size 2000x700 with 2 Axes>"
      ]
     },
     "metadata": {},
     "output_type": "display_data"
    }
   ],
   "source": [
    "import matplotlib.colors as colors\n",
    "plt.figure(figsize=(20,7))\n",
    "colors_list = ['#0099ff', '#33cc33','#33cc33']\n",
    "cmap = colors.ListedColormap(colors_list) \n",
    "\n",
    "plt.imshow(heatmap_np, cmap='binary', interpolation='nearest')\n",
    "\n",
    "cbar = plt.colorbar(ticks=[0, 1, 2])\n",
    "\n",
    "cbar.ax.set_yticklabels(['Низкая', 'Средеяя', 'Высокая']) \n",
    "\n",
    "plt.title(\"Тепловая карта сложности сжатия\") \n",
    "plt.xlabel(\"Блоки по ширине (256 пикселей)\") \n",
    "plt.ylabel(\"Блоки по высоте (256 пикселей)\") \n",
    "plt.show()"
   ]
  }
 ],
 "metadata": {
  "kernelspec": {
   "display_name": "Python 3",
   "language": "python",
   "name": "python3"
  },
  "language_info": {
   "codemirror_mode": {
    "name": "ipython",
    "version": 3
   },
   "file_extension": ".py",
   "mimetype": "text/x-python",
   "name": "python",
   "nbconvert_exporter": "python",
   "pygments_lexer": "ipython3",
   "version": "3.11.3"
  }
 },
 "nbformat": 4,
 "nbformat_minor": 2
}
